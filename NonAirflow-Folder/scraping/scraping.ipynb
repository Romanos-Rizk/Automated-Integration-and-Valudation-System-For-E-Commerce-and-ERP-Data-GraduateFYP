{
 "cells": [
  {
   "cell_type": "code",
   "execution_count": 9,
   "metadata": {},
   "outputs": [],
   "source": [
    "import pandas as pd\n",
    "import pandas as pd\n",
    "from bs4 import BeautifulSoup\n",
    "from selenium import webdriver\n",
    "from selenium.webdriver.chrome.service import Service as ChromeService\n",
    "from webdriver_manager.chrome import ChromeDriverManager\n",
    "import time\n",
    "import re"
   ]
  },
  {
   "cell_type": "code",
   "execution_count": 2,
   "metadata": {},
   "outputs": [],
   "source": [
    "data_oracle = pd.read_excel(\"C:\\\\Users\\\\Lenovo\\\\Desktop\\\\Final File.xlsx\", sheet_name='Oracle Data')"
   ]
  },
  {
   "cell_type": "code",
   "execution_count": 3,
   "metadata": {},
   "outputs": [
    {
     "name": "stdout",
     "output_type": "stream",
     "text": [
      "The number of unique products is: 640\n"
     ]
    }
   ],
   "source": [
    "# Count the number of unique products in the ORDERED_ITEM column\n",
    "unique_products_count = data_oracle['ORDERED_ITEM'].nunique()\n",
    "\n",
    "print(f'The number of unique products is: {unique_products_count}')"
   ]
  },
  {
   "cell_type": "code",
   "execution_count": 8,
   "metadata": {},
   "outputs": [
    {
     "name": "stdout",
     "output_type": "stream",
     "text": [
      "    Product ID                                       Product Name  \\\n",
      "0     C0003751  c0003751 eimi thermal image heat protection spray   \n",
      "1     C0004198   c0004198 invigo nutri enrich frizz control cream   \n",
      "2     C0003733                               c0003733 eimi dry me   \n",
      "3       174347        cosmaline hair and body mist floral fantasy   \n",
      "4       174750                     soft wave hair lightener spray   \n",
      "..         ...                                                ...   \n",
      "634   D0009899                    catrice 48h power stay brow gel   \n",
      "635     196573              cosmal cure professional sulfate free   \n",
      "636     193850              cosmal cure professional sulfate free   \n",
      "637     196450              cosmal cure professional sulfate free   \n",
      "638     197912            cosmaline eco deodorant soft confidence   \n",
      "\n",
      "                                              Category  \n",
      "0                           [Hair Styling, Hair Spray]  \n",
      "1    [Hair Care, Frizzy or Dry & Damaged Hair, Friz...  \n",
      "2                             [Hair Care, Dry Shampoo]  \n",
      "3                                 [Best Sellers, Mist]  \n",
      "4    [Hair Care, Hair Color, Colored or Blonde or G...  \n",
      "..                                                 ...  \n",
      "634                                      [Eyes Beauty]  \n",
      "635  [Hair Care, Curly & Wavy Hair, Free From Sulfa...  \n",
      "636   [Hair Care, Free From Sulfate & Silicone, Minis]  \n",
      "637  [Best Sellers, Curly & Wavy Hair, Free From Su...  \n",
      "638                                        [Deodorant]  \n",
      "\n",
      "[639 rows x 3 columns]\n"
     ]
    }
   ],
   "source": [
    "import pandas as pd\n",
    "from bs4 import BeautifulSoup\n",
    "from selenium import webdriver\n",
    "from selenium.webdriver.chrome.service import Service as ChromeService\n",
    "from webdriver_manager.chrome import ChromeDriverManager\n",
    "import time\n",
    "\n",
    "# Assuming your unique product ids are stored in a list\n",
    "unique_product_ids = data_oracle['ORDERED_ITEM'].unique().tolist()\n",
    "\n",
    "# Remove the specific ID 'SHIPPING_LOCAL' from the list\n",
    "if 'SHIPPING_LOCAL' in unique_product_ids:\n",
    "    unique_product_ids.remove('SHIPPING_LOCAL')\n",
    "\n",
    "# Create a DataFrame to store the scraped data\n",
    "product_data = pd.DataFrame(columns=['Product ID', 'Product Name', 'Category'])\n",
    "\n",
    "# Setup Selenium WebDriver\n",
    "service = ChromeService(executable_path=ChromeDriverManager().install())\n",
    "driver = webdriver.Chrome(service=service)\n",
    "\n",
    "# Base URL of the e-commerce website search page\n",
    "base_url = 'https://shop.cosmaline.com/website/search?search='\n",
    "\n",
    "# Process only the first 5 product IDs for testing\n",
    "for product_id in unique_product_ids:\n",
    "    try:\n",
    "        # Construct the search URL\n",
    "        search_url = f'{base_url}{product_id}&order=name+asc'\n",
    "        \n",
    "        # Fetch the search results page\n",
    "        driver.get(search_url)\n",
    "        \n",
    "        # Allow the page to load\n",
    "        time.sleep(3)  # Adjust the sleep time if necessary\n",
    "        \n",
    "        # Parse the page content\n",
    "        soup = BeautifulSoup(driver.page_source, 'html.parser')\n",
    "        \n",
    "        # Extract product name from the search results\n",
    "        product_name_tag = soup.find('a', {'class': 'dropdown-item p-2 text-wrap'})\n",
    "        if product_name_tag:\n",
    "            product_name = product_name_tag.get('href').split('/')[-1].replace('-', ' ').split()[:-2]\n",
    "            product_name = ' '.join(product_name)\n",
    "        else:\n",
    "            product_name = \"Product Not Found\"\n",
    "        \n",
    "        # Extract categories from the search results\n",
    "        category_tags = soup.find_all('button', {'class': 'btn btn-link btn-sm p-0'})\n",
    "        categories = [tag.text.strip() for tag in category_tags]  # Get all category buttons\n",
    "        \n",
    "        # Append the data to the DataFrame\n",
    "        new_row = pd.DataFrame({'Product ID': [product_id], 'Product Name': [product_name], 'Category': [categories]})\n",
    "        product_data = pd.concat([product_data, new_row], ignore_index=True)\n",
    "    \n",
    "    except Exception as e:\n",
    "        print(f'Error scraping product ID {product_id}: {e}')\n",
    "        new_row = pd.DataFrame({'Product ID': [product_id], 'Product Name': [\"Error Occurred\"], 'Category': [[]]})\n",
    "        product_data = pd.concat([product_data, new_row], ignore_index=True)\n",
    "\n",
    "# Close the WebDriver\n",
    "driver.quit()\n",
    "\n",
    "# Save the scraped data to a CSV file\n",
    "product_data.to_csv('C:\\\\Users\\\\Lenovo\\\\Desktop\\\\scraped_product_data_with_categories.csv', index=False)\n",
    "\n",
    "# Display the DataFrame\n",
    "print(product_data)"
   ]
  },
  {
   "cell_type": "code",
   "execution_count": 17,
   "metadata": {},
   "outputs": [
    {
     "name": "stdout",
     "output_type": "stream",
     "text": [
      "    Product ID                                 Product Name  \\\n",
      "0     C0003751     eimi thermal image heat protection spray   \n",
      "1     C0004198      invigo nutri enrich frizz control cream   \n",
      "2     C0003733                                  eimi dry me   \n",
      "3       174347  cosmaline hair and body mist floral fantasy   \n",
      "4       174750               soft wave hair lightener spray   \n",
      "..         ...                                          ...   \n",
      "634   D0009899              catrice 48h power stay brow gel   \n",
      "635     196573        cosmal cure professional sulfate free   \n",
      "636     193850        cosmal cure professional sulfate free   \n",
      "637     196450        cosmal cure professional sulfate free   \n",
      "638     197912      cosmaline eco deodorant soft confidence   \n",
      "\n",
      "                                              Category  \n",
      "0                       ['Hair Styling', 'Hair Spray']  \n",
      "1    ['Hair Care', 'Frizzy or Dry & Damaged Hair', ...  \n",
      "2                         ['Hair Care', 'Dry Shampoo']  \n",
      "3                             ['Best Sellers', 'Mist']  \n",
      "4    ['Hair Care', 'Hair Color', 'Colored or Blonde...  \n",
      "..                                                 ...  \n",
      "634                                    ['Eyes Beauty']  \n",
      "635  ['Hair Care', 'Curly & Wavy Hair', 'Free From ...  \n",
      "636  ['Hair Care', 'Free From Sulfate & Silicone', ...  \n",
      "637  ['Best Sellers', 'Curly & Wavy Hair', 'Free Fr...  \n",
      "638                                      ['Deodorant']  \n",
      "\n",
      "[639 rows x 3 columns]\n"
     ]
    }
   ],
   "source": [
    "product_data = pd.read_csv('C:\\\\Users\\\\Lenovo\\\\Desktop\\\\scraped_product_data_with_categories.csv')\n",
    "\n",
    "# Function to clean the product name by removing the ID if it appears at the start\n",
    "def clean_product_name(row):\n",
    "    product_id = str(row['Product ID']).lower()\n",
    "    product_name = str(row['Product Name'])\n",
    "    if product_name.lower().startswith(product_id):\n",
    "        product_name = product_name[len(product_id):].strip()\n",
    "    return product_name\n",
    "\n",
    "# Apply the cleaning function to the DataFrame\n",
    "product_data['Product Name'] = product_data.apply(clean_product_name, axis=1)\n",
    "\n",
    "# Save the cleaned data to a new CSV file\n",
    "product_data.to_csv('C:\\\\Users\\\\Lenovo\\\\Desktop\\\\cleaned_product_data.csv', index=False)\n",
    "\n",
    "# Display the cleaned DataFrame\n",
    "print(product_data)"
   ]
  }
 ],
 "metadata": {
  "kernelspec": {
   "display_name": "Python 3",
   "language": "python",
   "name": "python3"
  },
  "language_info": {
   "codemirror_mode": {
    "name": "ipython",
    "version": 3
   },
   "file_extension": ".py",
   "mimetype": "text/x-python",
   "name": "python",
   "nbconvert_exporter": "python",
   "pygments_lexer": "ipython3",
   "version": "3.11.7"
  }
 },
 "nbformat": 4,
 "nbformat_minor": 2
}
