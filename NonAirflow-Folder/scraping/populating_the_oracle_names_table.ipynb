{
 "cells": [
  {
   "cell_type": "code",
   "execution_count": 1,
   "metadata": {},
   "outputs": [],
   "source": [
    "import pandas as pd\n",
    "from sqlalchemy import create_engine, Table, Column, String, MetaData"
   ]
  },
  {
   "cell_type": "code",
   "execution_count": 2,
   "metadata": {},
   "outputs": [],
   "source": [
    "def create_db_engine():\n",
    "    \"\"\"\n",
    "    Creates a SQLAlchemy engine with hardcoded credentials.\n",
    "    \n",
    "    Returns:\n",
    "        engine: An SQLAlchemy Engine instance.\n",
    "    \"\"\"\n",
    "    user = 'root'\n",
    "    password = '2452002Az)'  # Be cautious with sensitive info in production environments\n",
    "    host = 'localhost'\n",
    "    database = 'CapstoneTest'\n",
    "    url = f'mysql+pymysql://{user}:{password}@{host}/{database}'\n",
    "    engine = create_engine(url, echo=True)  # Set echo=False in production for less verbosity\n",
    "    return engine"
   ]
  },
  {
   "cell_type": "code",
   "execution_count": 3,
   "metadata": {},
   "outputs": [],
   "source": [
    "# Create an engine instance\n",
    "engine = create_db_engine()"
   ]
  },
  {
   "cell_type": "code",
   "execution_count": 20,
   "metadata": {},
   "outputs": [],
   "source": [
    "data = pd.read_csv(\"C:\\\\Users\\\\Lenovo\\\\Desktop\\\\cleaned_product_data.csv\")"
   ]
  },
  {
   "cell_type": "code",
   "execution_count": 21,
   "metadata": {},
   "outputs": [
    {
     "data": {
      "text/html": [
       "<div>\n",
       "<style scoped>\n",
       "    .dataframe tbody tr th:only-of-type {\n",
       "        vertical-align: middle;\n",
       "    }\n",
       "\n",
       "    .dataframe tbody tr th {\n",
       "        vertical-align: top;\n",
       "    }\n",
       "\n",
       "    .dataframe thead th {\n",
       "        text-align: right;\n",
       "    }\n",
       "</style>\n",
       "<table border=\"1\" class=\"dataframe\">\n",
       "  <thead>\n",
       "    <tr style=\"text-align: right;\">\n",
       "      <th></th>\n",
       "      <th>Product ID</th>\n",
       "      <th>Product Name</th>\n",
       "      <th>Category</th>\n",
       "    </tr>\n",
       "  </thead>\n",
       "  <tbody>\n",
       "    <tr>\n",
       "      <th>0</th>\n",
       "      <td>C0003751</td>\n",
       "      <td>eimi thermal image heat protection spray</td>\n",
       "      <td>['Hair Styling', 'Hair Spray']</td>\n",
       "    </tr>\n",
       "    <tr>\n",
       "      <th>1</th>\n",
       "      <td>C0004198</td>\n",
       "      <td>invigo nutri enrich frizz control cream</td>\n",
       "      <td>['Hair Care', 'Frizzy or Dry &amp; Damaged Hair', ...</td>\n",
       "    </tr>\n",
       "    <tr>\n",
       "      <th>2</th>\n",
       "      <td>C0003733</td>\n",
       "      <td>eimi dry me</td>\n",
       "      <td>['Hair Care', 'Dry Shampoo']</td>\n",
       "    </tr>\n",
       "    <tr>\n",
       "      <th>3</th>\n",
       "      <td>174347</td>\n",
       "      <td>cosmaline hair and body mist floral fantasy</td>\n",
       "      <td>['Best Sellers', 'Mist']</td>\n",
       "    </tr>\n",
       "    <tr>\n",
       "      <th>4</th>\n",
       "      <td>174750</td>\n",
       "      <td>soft wave hair lightener spray</td>\n",
       "      <td>['Hair Care', 'Hair Color', 'Colored or Blonde...</td>\n",
       "    </tr>\n",
       "  </tbody>\n",
       "</table>\n",
       "</div>"
      ],
      "text/plain": [
       "  Product ID                                 Product Name  \\\n",
       "0   C0003751     eimi thermal image heat protection spray   \n",
       "1   C0004198      invigo nutri enrich frizz control cream   \n",
       "2   C0003733                                  eimi dry me   \n",
       "3     174347  cosmaline hair and body mist floral fantasy   \n",
       "4     174750               soft wave hair lightener spray   \n",
       "\n",
       "                                            Category  \n",
       "0                     ['Hair Styling', 'Hair Spray']  \n",
       "1  ['Hair Care', 'Frizzy or Dry & Damaged Hair', ...  \n",
       "2                       ['Hair Care', 'Dry Shampoo']  \n",
       "3                           ['Best Sellers', 'Mist']  \n",
       "4  ['Hair Care', 'Hair Color', 'Colored or Blonde...  "
      ]
     },
     "execution_count": 21,
     "metadata": {},
     "output_type": "execute_result"
    }
   ],
   "source": [
    "data.head()"
   ]
  },
  {
   "cell_type": "code",
   "execution_count": 22,
   "metadata": {},
   "outputs": [
    {
     "data": {
      "text/html": [
       "<div>\n",
       "<style scoped>\n",
       "    .dataframe tbody tr th:only-of-type {\n",
       "        vertical-align: middle;\n",
       "    }\n",
       "\n",
       "    .dataframe tbody tr th {\n",
       "        vertical-align: top;\n",
       "    }\n",
       "\n",
       "    .dataframe thead th {\n",
       "        text-align: right;\n",
       "    }\n",
       "</style>\n",
       "<table border=\"1\" class=\"dataframe\">\n",
       "  <thead>\n",
       "    <tr style=\"text-align: right;\">\n",
       "      <th></th>\n",
       "      <th>product_id</th>\n",
       "      <th>product_name</th>\n",
       "      <th>product_category</th>\n",
       "    </tr>\n",
       "  </thead>\n",
       "  <tbody>\n",
       "    <tr>\n",
       "      <th>631</th>\n",
       "      <td>D0010136</td>\n",
       "      <td>Product Not Found</td>\n",
       "      <td>[]</td>\n",
       "    </tr>\n",
       "    <tr>\n",
       "      <th>632</th>\n",
       "      <td>120033</td>\n",
       "      <td>cosmal cure professional hair color cream hone...</td>\n",
       "      <td>['Permanent']</td>\n",
       "    </tr>\n",
       "    <tr>\n",
       "      <th>633</th>\n",
       "      <td>120055</td>\n",
       "      <td>cosmal cure professional hair color cream burg...</td>\n",
       "      <td>['Permanent']</td>\n",
       "    </tr>\n",
       "    <tr>\n",
       "      <th>634</th>\n",
       "      <td>D0009899</td>\n",
       "      <td>catrice 48h power stay brow gel</td>\n",
       "      <td>['Eyes Beauty']</td>\n",
       "    </tr>\n",
       "    <tr>\n",
       "      <th>635</th>\n",
       "      <td>SHIPPING_LOCAL</td>\n",
       "      <td>Product Not Found</td>\n",
       "      <td>[]</td>\n",
       "    </tr>\n",
       "  </tbody>\n",
       "</table>\n",
       "</div>"
      ],
      "text/plain": [
       "         product_id                                       product_name  \\\n",
       "631        D0010136                                  Product Not Found   \n",
       "632          120033  cosmal cure professional hair color cream hone...   \n",
       "633          120055  cosmal cure professional hair color cream burg...   \n",
       "634        D0009899                    catrice 48h power stay brow gel   \n",
       "635  SHIPPING_LOCAL                                  Product Not Found   \n",
       "\n",
       "    product_category  \n",
       "631               []  \n",
       "632    ['Permanent']  \n",
       "633    ['Permanent']  \n",
       "634  ['Eyes Beauty']  \n",
       "635               []  "
      ]
     },
     "execution_count": 22,
     "metadata": {},
     "output_type": "execute_result"
    }
   ],
   "source": [
    "# Rename DataFrame columns to match the table column names\n",
    "data.columns = ['product_id', 'product_name', 'product_category']\n",
    "# Remove duplicates but keep the first occurrence\n",
    "data = data.drop_duplicates(subset=['product_id'], keep='first')\n",
    "new_row = pd.DataFrame([{\"product_id\": \"SHIPPING_LOCAL\", \"product_name\": \"Product Not Found\", \"product_category\": \"[]\"}])\n",
    "data = pd.concat([data, new_row], ignore_index=True)\n",
    "data.tail()"
   ]
  },
  {
   "cell_type": "code",
   "execution_count": 23,
   "metadata": {},
   "outputs": [
    {
     "name": "stdout",
     "output_type": "stream",
     "text": [
      "2024-07-18 15:57:05,704 INFO sqlalchemy.engine.Engine BEGIN (implicit)\n",
      "2024-07-18 15:57:05,707 INFO sqlalchemy.engine.Engine SELECT COUNT(*) FROM information_schema.tables WHERE table_schema = %(table_schema)s AND table_name = %(table_name)s\n",
      "2024-07-18 15:57:05,709 INFO sqlalchemy.engine.Engine [cached since 1063s ago] {'table_schema': 'capstonetest', 'table_name': 'oracle_data_product_name'}\n",
      "2024-07-18 15:57:05,717 INFO sqlalchemy.engine.Engine INSERT INTO oracle_data_product_name (product_id, product_name, product_category) VALUES (%(product_id)s, %(product_name)s, %(product_category)s)\n",
      "2024-07-18 15:57:05,719 INFO sqlalchemy.engine.Engine [generated in 0.00299s] ({'product_id': 'C0003751', 'product_name': 'eimi thermal image heat protection spray', 'product_category': \"['Hair Styling', 'Hair Spray']\"}, {'product_id': 'C0004198', 'product_name': 'invigo nutri enrich frizz control cream', 'product_category': \"['Hair Care', 'Frizzy or Dry & Damaged Hair', 'Frizzy or Dry & Damaged Hair']\"}, {'product_id': 'C0003733', 'product_name': 'eimi dry me', 'product_category': \"['Hair Care', 'Dry Shampoo']\"}, {'product_id': '174347', 'product_name': 'cosmaline hair and body mist floral fantasy', 'product_category': \"['Best Sellers', 'Mist']\"}, {'product_id': '174750', 'product_name': 'soft wave hair lightener spray', 'product_category': \"['Hair Care', 'Hair Color', 'Colored or Blonde or Grey Hair', 'Permanent', 'Colored or Blonde or Grey Hair']\"}, {'product_id': '197954', 'product_name': 'cosmaline antiperspirant roll on soft touch', 'product_category': \"['Antiperspirant']\"}, {'product_id': '174270', 'product_name': 'cosmaline hair and body mist sunset paradise', 'product_category': \"['Mist']\"}, {'product_id': '174450', 'product_name': 'cosmaline micellar cleansing water', 'product_category': \"['Face Care']\"}  ... displaying 10 of 636 total bound parameter sets ...  {'product_id': 'D0009899', 'product_name': 'catrice 48h power stay brow gel', 'product_category': \"['Eyes Beauty']\"}, {'product_id': 'SHIPPING_LOCAL', 'product_name': 'Product Not Found', 'product_category': '[]'})\n",
      "2024-07-18 15:57:05,773 INFO sqlalchemy.engine.Engine COMMIT\n",
      "Data inserted successfully.\n"
     ]
    }
   ],
   "source": [
    "# Insert data into the table\n",
    "data.to_sql('oracle_data_product_name', con=engine, if_exists='append', index=False)\n",
    "\n",
    "print(\"Data inserted successfully.\")"
   ]
  }
 ],
 "metadata": {
  "kernelspec": {
   "display_name": "Python 3",
   "language": "python",
   "name": "python3"
  },
  "language_info": {
   "codemirror_mode": {
    "name": "ipython",
    "version": 3
   },
   "file_extension": ".py",
   "mimetype": "text/x-python",
   "name": "python",
   "nbconvert_exporter": "python",
   "pygments_lexer": "ipython3",
   "version": "3.11.7"
  }
 },
 "nbformat": 4,
 "nbformat_minor": 2
}
